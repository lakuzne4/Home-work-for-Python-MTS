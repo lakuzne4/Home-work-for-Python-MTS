{
 "cells": [
  {
   "cell_type": "markdown",
   "metadata": {},
   "source": [
    "# Базовая часть"
   ]
  },
  {
   "cell_type": "markdown",
   "metadata": {},
   "source": [
    "Рассмотрим задание 2 из лекции. При анализе отзывов на работу техподдержки вы считали массив из отзывов (для простоты отзыва приведено всего два, но могло быть и больше):"
   ]
  },
  {
   "cell_type": "code",
   "execution_count": 19,
   "metadata": {
    "collapsed": true
   },
   "outputs": [],
   "source": [
    "reviews = [\"\"\"Телефон абонента: +7 916 000 00 01\n",
    "Время: 10:34\n",
    "Дата: 20.05.2017\n",
    "Оценка: 1\n",
    "Длительность разговора (мин.): 0:32\n",
    "Комментарий: Общение с сотрудником вашей техподдержки мне не понравилось. Раньше всегда отвечала девушка с приятным голосом, а сегодня какой-то мужчина. Совсем никуда не годится, примите меры!!!\"\"\",\n",
    "\"\"\"Телефон абонента: +7 916 000 00 02\n",
    "Время: 9:20\n",
    "Дата: 21.05.2017\n",
    "Оценка: 5\n",
    "Длительность разговора (мин.): 25:07\n",
    "Комментарий: С моей проблемой мне помогли, большое спасибо!\"\"\"]"
   ]
  },
  {
   "cell_type": "markdown",
   "metadata": {},
   "source": [
    "Сформируйте на основе этого массива словарь my_base, в котором по ключу в виде строки с телефоном абонента будет храниться другой словарь. Внутренний словарь по ключам в виде названий полей отзыва должен хранить значение полей (в виде строк). Например, код ниже должен выдать True:"
   ]
  },
  {
   "cell_type": "code",
   "execution_count": null,
   "metadata": {
    "collapsed": true
   },
   "outputs": [],
   "source": [
    "my_base['+7 916 000 00 01']['Дата'] == '20.05.2017'"
   ]
  },
  {
   "cell_type": "markdown",
   "metadata": {},
   "source": [
    "Обратите внимание, что вам могут немного мешать пробелы после знаков \":\""
   ]
  },
  {
   "cell_type": "markdown",
   "metadata": {},
   "source": [
    "# Решение базовой части:"
   ]
  },
  {
   "cell_type": "code",
   "execution_count": 88,
   "metadata": {
    "collapsed": false
   },
   "outputs": [
    {
     "name": "stdout",
     "output_type": "stream",
     "text": [
      "yes\n"
     ]
    }
   ],
   "source": [
    "my_base=dict()\n",
    "\n",
    "for review in reviews:\n",
    "    phone_num=review.split(\"\\n\")[0].split(': ')[1]            #вытаскиваем номер для каждого отзыва\n",
    "    my_base[phone_num]=dict()                                 #каждому вытащенному номеру ставим в соответствие пустой словарь\n",
    "    for s in review.split(\"\\n\"):\n",
    "        my_base[phone_num][s.split(': ')[0]]=s.split(': ')[1] #для каждой строки отзыва добавляем пару \"ключ-значение\" в словарь\n",
    "       \n",
    "        \n",
    "# проверка условия\n",
    "\n",
    "if my_base['+7 916 000 00 01']['Дата'] == '20.05.2017':\n",
    "    print 'yes'"
   ]
  },
  {
   "cell_type": "markdown",
   "metadata": {},
   "source": [
    "# Продвинутая часть"
   ]
  },
  {
   "cell_type": "markdown",
   "metadata": {},
   "source": [
    "Попробуйте выполнить предыдущее задание, но теперь обеспечив хранение полей из отзыва в словаре в тех типах данных, которые на ваш взгляд наиболее уместны. Подумайте, что делать с датой и временем. Возможно вам покажется полезным немного воспользоваться поисковиком или документацией к Python, а может быть вам хватит стандартных типов данных.\n",
    "Объясните свой выбор в комментариях к коду или markdown ячейках и продемонстрируйте, что поля имеют нужный тип."
   ]
  },
  {
   "cell_type": "markdown",
   "metadata": {},
   "source": [
    "# Решение продвинутой части"
   ]
  },
  {
   "cell_type": "code",
   "execution_count": 97,
   "metadata": {
    "collapsed": false
   },
   "outputs": [
    {
     "name": "stdout",
     "output_type": "stream",
     "text": [
      "Оценка ||| <type 'int'>\n",
      "Время ||| <type 'time.struct_time'>\n",
      "Комментарий ||| <type 'str'>\n",
      "Длительность разговора (мин.) ||| <type 'time.struct_time'>\n",
      "Телефон абонента ||| <type 'long'>\n",
      "Дата ||| <type 'time.struct_time'>\n"
     ]
    }
   ],
   "source": [
    "\n",
    "import time\n",
    "\n",
    "# создание словаря (повтор первой части)\n",
    "\n",
    "my_base=dict()\n",
    "\n",
    "for review in reviews:\n",
    "    phone_num=review.split(\"\\n\")[0].split(': ')[1]\n",
    "    my_base[phone_num]=dict()\n",
    "    for s in review.split(\"\\n\"):\n",
    "        my_base[phone_num][s.split(': ')[0]]=s.split(': ')[1]\n",
    "\n",
    "# преобразование типов по каждому элементу\n",
    "\n",
    "for phone in my_base:\n",
    "    for s in my_base[phone].keys():\n",
    "        if s=='Телефон абонента':                                           # 11-значное число т.к. в базах данных оптимальнее делать join по числовому полю\n",
    "            my_base[phone][s]=int(my_base[phone][s].replace(' ','')[1:12])\n",
    "        elif s=='Время':                                                    #время,дата и длительность хранятся как struct_time\n",
    "            my_base[phone][s]=time.strptime(my_base[phone][s], '%I:%M')     #но при показе можно наложить нужный формат (см.закомментированную строку ниже )          \n",
    "        elif s=='Дата':\n",
    "            my_base[phone][s]=time.strptime(my_base[phone][s], '%d.%m.%Y')\n",
    "        elif s=='Длительность разговора (мин.)':\n",
    "            my_base[phone][s]=time.strptime(my_base[phone][s], '%M:%S')\n",
    "        elif s=='Оценка':                                                   # Оценка-целое число, комментарий остается строкой\n",
    "            my_base[phone][s]=int(my_base[phone][s])\n",
    "\n",
    "            \n",
    "# print strftime(\"%H:%M\",my_base['+7 916 000 00 01']['Дата']) -----# наложение формата при выводе времени\n",
    "\n",
    "\n",
    "# проверка\n",
    "for key, value in my_base['+7 916 000 00 01'].iteritems() :\n",
    "    print key,'|||', type(value)"
   ]
  },
  {
   "cell_type": "markdown",
   "metadata": {},
   "source": [
    "# Сложная часть"
   ]
  },
  {
   "cell_type": "markdown",
   "metadata": {},
   "source": [
    "На лекции было рассказано про неизменяемые типы, в частности про tuple. Подумайте, можно ли \"сломать\" неизменяемость tuple? Как сделать tuple изменяемым? Можно ли будет его добавить в множество или использовать в качестве ключа в словаре?"
   ]
  },
  {
   "cell_type": "markdown",
   "metadata": {},
   "source": [
    "# Решение сложной части"
   ]
  },
  {
   "cell_type": "code",
   "execution_count": 99,
   "metadata": {
    "collapsed": false
   },
   "outputs": [
    {
     "name": "stdout",
     "output_type": "stream",
     "text": [
      "('Ivan Ivanovich', 'Medium', 500000, 12, True, 'one more element') ||||| <type 'tuple'>\n",
      "количество зеленых яблок = 12\n",
      "set(['Ivan', 'Konstantin', ('Ivan Ivanovich', 'Medium', 500000, 12, True, 'one more element'), 'Petr'])\n"
     ]
    }
   ],
   "source": [
    "\n",
    "#сделать tuple изменяемым можно преобразовав его в лист, а потом обратно, например так:\n",
    "features_tuple = ('Ivan Ivanovich', 'Medium', 500000, 12, True)\n",
    "features_tuple=tuple(list(features_tuple)+['one more element'])\n",
    "\n",
    "print features_tuple,'|||||', type(features_tuple) #в результате получился изменённый tuple\n",
    "\n",
    "#объект типа tuple является хешируемым объектом и его можно использовать в качестве ключа словаря:\n",
    "tuple_1={ ('banana',    'blue' ): 24,\n",
    "      ('apple',     'green'): 12,\n",
    "      ('strawberry','blue' ): 0\n",
    "      }\n",
    "print \"количество зеленых яблок\",'=',tuple_1[('apple', 'green')] #возвращает количество зеленых яблок\n",
    "\n",
    "#точно также объект tuple можно добавить во множество в качестве элемента:\n",
    "names = {'Ivan', 'Petr', 'Konstantin'}\n",
    "names.add(features_tuple)\n",
    "print names"
   ]
  },
  {
   "cell_type": "code",
   "execution_count": null,
   "metadata": {
    "collapsed": true
   },
   "outputs": [],
   "source": []
  }
 ],
 "metadata": {
  "anaconda-cloud": {},
  "kernelspec": {
   "display_name": "Python 2",
   "language": "python",
   "name": "python2"
  },
  "language_info": {
   "codemirror_mode": {
    "name": "ipython",
    "version": 2
   },
   "file_extension": ".py",
   "mimetype": "text/x-python",
   "name": "python",
   "nbconvert_exporter": "python",
   "pygments_lexer": "ipython2",
   "version": "2.7.13"
  }
 },
 "nbformat": 4,
 "nbformat_minor": 1
}
