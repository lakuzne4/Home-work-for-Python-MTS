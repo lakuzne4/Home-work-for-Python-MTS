{
 "cells": [
  {
   "cell_type": "markdown",
   "metadata": {},
   "source": [
    "### Большая часть задач требует операций с файлами, поэтому для воспроизводимости результатов работы вашего кода эти файлы нужно создавать\n",
    "\n",
    "### Можете их всех создавать в текущей папке, быстро и удобно это можно сделать таким способом:"
   ]
  },
  {
   "cell_type": "code",
   "execution_count": 1,
   "metadata": {
    "collapsed": false
   },
   "outputs": [],
   "source": [
    "text = \"\"\"123\n",
    "4567\n",
    " 8910\n",
    "\"\"\"\n",
    "with open('task_1.1_source', 'w') as f:\n",
    "    f.write(text)"
   ]
  },
  {
   "cell_type": "code",
   "execution_count": 2,
   "metadata": {
    "collapsed": false
   },
   "outputs": [
    {
     "name": "stdout",
     "output_type": "stream",
     "text": [
      "123\r\n",
      "4567\r\n",
      " 8910\r\n"
     ]
    }
   ],
   "source": [
    "!cat task_1.1_source"
   ]
  },
  {
   "cell_type": "markdown",
   "metadata": {},
   "source": [
    "# Базовый уровень"
   ]
  },
  {
   "cell_type": "markdown",
   "metadata": {},
   "source": [
    "## Задание 1.1\n",
    "\n",
    "Напишите функцию, копирующую файл\n",
    "\n",
    "source_path должен существовать, а отсутствующие промежуточные папки из target_path должны быть созданы\n",
    "\n",
    "Подсказка: можно прочитать исходный файл и записать в новый. \n",
    "\n",
    "Опциональное усложнение: попробуйте написать так, чтобы функция работала и с большими файлами (нужно, чтобы содежимое файла не считывалось полностью в память)"
   ]
  },
  {
   "cell_type": "code",
   "execution_count": 16,
   "metadata": {
    "collapsed": false
   },
   "outputs": [],
   "source": [
    "#создание проверочного файла\n",
    "text = \"\"\"123\n",
    "4567\n",
    " 8910\n",
    "\"\"\"\n",
    "with open('task_1_1_source.txt', 'w') as f:\n",
    "    f.write(text)\n",
    "\n",
    "#функция копирования (имя выходного файла result.txt в указанной директории)\n",
    "def copy_file(source_path, target_path):\n",
    "    # Допишите код\n",
    "    import os\n",
    "    import shutil\n",
    "    if os.path.exists(target_path):\n",
    "        pass\n",
    "    else:\n",
    "        os.makedirs(target_path)\n",
    "    #встроенный способ копирования shutil.copy(source_path,target_path)\n",
    "    with open(source_path,'r') as f:\n",
    "        with open(os.path.join(target_path,'result.txt'),'w') as t:\n",
    "            t.write(f.read())\n",
    "    return\n",
    "\n",
    "#проверка\n",
    "import os\n",
    "copy_file(os.path.join(os.getcwd(),'task_1_1_source.txt'),os.path.join(os.getcwd(),'test_folder1','test_folder2'))"
   ]
  },
  {
   "cell_type": "markdown",
   "metadata": {},
   "source": [
    "## Задание 1.2\n",
    "\n",
    "##### В файле source_path находится англо-латинский словарь, то есть список слов на английском языке и их переводы на латинский язык (переводов может быть несколько). Необходимо создать из него латино-английский словарь по пути target_path. Например, из словаря\n",
    "\n",
    "\n",
    "\n",
    "apple - malum, pomum, popula\n",
    "\n",
    "fruit - baca, bacca, popum\n",
    "\n",
    "punishment - malum, multa\n",
    "\n",
    "\n",
    "\n",
    "##### нужно сделать словарь.\n",
    "\n",
    "baca - fruit\n",
    "\n",
    "bacca - fruit\n",
    "\n",
    "malum - apple, punishment\n",
    "\n",
    "multa - punishment\n",
    "\n",
    "pomum - apple\n",
    "\n",
    "popula - apple\n",
    "\n",
    "popum - fruit\n",
    "\n",
    "##### Не забудьте, что слова нужно расположить в алфавитном порядке.\n",
    "##### Будет полезна функция strip у строки для удаления пробелов\n"
   ]
  },
  {
   "cell_type": "code",
   "execution_count": 17,
   "metadata": {
    "collapsed": true
   },
   "outputs": [],
   "source": [
    "# данные для проверки\n",
    "text = \"\"\"apple - malum, pomum, popula\n",
    "fruit - baca, bacca, popum\n",
    "punishment - malum, multa\n",
    "\"\"\"\n",
    "with open('task_1_2_source.txt', 'w') as f:\n",
    "    f.write(text)\n",
    "\n",
    "\n",
    "source_path=os.path.join(os.getcwd(),'task_1_2_source.txt')\n",
    "target_path=os.path.join(os.getcwd(),'task_1_2_result.txt')\n",
    "\n",
    "# функция\n",
    "def eng_lat_2_lat_eng(source_path, target_path):\n",
    "\n",
    "    #функция чтения одной строки\n",
    "    def read_one_line(line,alist=[]):\n",
    "        try:\n",
    "            for i in map(lambda x:x.strip(),line.split(' - ')[1].split(', ')):\n",
    "                alist.append([line.split('-')[0].strip(),i])\n",
    "            return alist\n",
    "        except IndexError:\n",
    "            print 'incorrect line'\n",
    "        return\n",
    "\n",
    "\n",
    "    #чтение файла построчно\n",
    "    with open(source_path, 'r') as f:\n",
    "        for line in f.readlines():\n",
    "             myDict=read_one_line(line)\n",
    "\n",
    "    #создание преоразованного  словаря\n",
    "    def new_dictionary(myDict):\n",
    "        from itertools import groupby\n",
    "        myDict2=sorted(myDict,key=lambda x:x[1])\n",
    "        myDict3={\n",
    "                key:[x[0] for x in group]\n",
    "                for key,group in groupby(myDict2,key=lambda x:x[1])\n",
    "        }\n",
    "        return myDict3\n",
    "\n",
    "    #запись в файл построчно (одна строчка для одного латинского слова)\n",
    "    with open(target_path,'w') as r:\n",
    "        for i in sorted(new_dictionary(myDict).keys()):\n",
    "            r.write(i+' - '+', '.join(new_dictionary(myDict)[i]))\n",
    "            r.write('\\n')\n",
    "    return\n",
    "\n",
    "    \n",
    "# проверка\n",
    "eng_lat_2_lat_eng(source_path,target_path)"
   ]
  },
  {
   "cell_type": "markdown",
   "metadata": {},
   "source": [
    "## Задание 1.3\n",
    "\n",
    "Напишите функцию, вычисляющую длину русского слова, независимо от его кодировки\n",
    "\n",
    "Если параметр encoding задан, то нужно декодировать текст при помощи этой кодировки. А если он не задан, то кодировку надо определить самостоятельно.\n",
    "\n",
    "##### Если кодировка не задана, то точное решение здесь написать не получится. Но можно воспользоваться функцией my_decoder из лекции"
   ]
  },
  {
   "cell_type": "code",
   "execution_count": 18,
   "metadata": {
    "collapsed": true
   },
   "outputs": [],
   "source": [
    "def my_len(word, encoding=None):\n",
    "    # Допишите код\n",
    "    \n",
    "    def my_decoder(val):\n",
    "        import chardet\n",
    "        if type(val) is unicode:\n",
    "            return val\n",
    "        else:\n",
    "            return unicode(val, encoding=chardet.detect(val)['encoding'])\n",
    "        \n",
    "    if encoding is not None:\n",
    "        return len(word.decode(encoding))\n",
    "    else:\n",
    "        return len(my_decoder(word))"
   ]
  },
  {
   "cell_type": "code",
   "execution_count": 19,
   "metadata": {
    "collapsed": false
   },
   "outputs": [
    {
     "data": {
      "text/plain": [
       "True"
      ]
     },
     "execution_count": 19,
     "metadata": {},
     "output_type": "execute_result"
    }
   ],
   "source": [
    "my_len('текст') == 5"
   ]
  },
  {
   "cell_type": "code",
   "execution_count": 20,
   "metadata": {
    "collapsed": false
   },
   "outputs": [
    {
     "data": {
      "text/plain": [
       "True"
      ]
     },
     "execution_count": 20,
     "metadata": {},
     "output_type": "execute_result"
    }
   ],
   "source": [
    "my_len(u'текст') == 5"
   ]
  },
  {
   "cell_type": "code",
   "execution_count": 21,
   "metadata": {
    "collapsed": false
   },
   "outputs": [
    {
     "data": {
      "text/plain": [
       "True"
      ]
     },
     "execution_count": 21,
     "metadata": {},
     "output_type": "execute_result"
    }
   ],
   "source": [
    "my_len(u'ааааа'.encode('utf_16'), encoding='utf_16') == 5"
   ]
  },
  {
   "cell_type": "code",
   "execution_count": 22,
   "metadata": {
    "collapsed": false
   },
   "outputs": [
    {
     "data": {
      "text/plain": [
       "True"
      ]
     },
     "execution_count": 22,
     "metadata": {},
     "output_type": "execute_result"
    }
   ],
   "source": [
    "my_len(u'текст'.encode('windows-1251')) == 5"
   ]
  },
  {
   "cell_type": "markdown",
   "metadata": {},
   "source": [
    "# Продвинутый уровень"
   ]
  },
  {
   "cell_type": "markdown",
   "metadata": {},
   "source": [
    "## Задание 2.1\n",
    "\n",
    "Напишите функцию, которая выписывает список файлов в данной директории и сортирует их в соответствии с их размером. Функция должна получать путь к директории в качестве аргумента и печатать на экран имена всех файлов в ней и их размеры, причем первыми должны идти файлы с наибольшими размерами, а в случае одинакового размер файлы сортируются по алфавиту.\n",
    "\n",
    "##### Указание. Изучите функции listdir и stat из модуля os и функции isfile и join из модуля os.path.\n"
   ]
  },
  {
   "cell_type": "code",
   "execution_count": 23,
   "metadata": {
    "collapsed": false
   },
   "outputs": [
    {
     "name": "stdout",
     "output_type": "stream",
     "text": [
      "3_Syntax_part2.ipynb 42251\n",
      "3_Syntax_part2_hw.ipynb 26972\n",
      "lakuzne4ДЗ3.ipynb 26498\n",
      "lakuzne4ДЗ4.ipynb 23719\n",
      "4_Encodings_Files_HW.ipynb 23700\n",
      "2_Syntax_part1_hw.ipynb 10818\n",
      "Trying python.ipynb 8575\n",
      ".ipynb_checkpoints 4096\n",
      "Untitled1.ipynb 3598\n",
      "Untitled.ipynb 1475\n",
      "task_1_2_result.txt 122\n",
      "task_1_2_source.txt 85\n",
      "atest.txt 11\n",
      "btest.txt 11\n",
      "test.txt 11\n",
      "test_folder1 0\n"
     ]
    }
   ],
   "source": [
    "def get_dir_content_info(dir_path):\n",
    "    # Допишите код\n",
    "    import os\n",
    "    import sys\n",
    "    import locale\n",
    "    list_of_files=[]\n",
    "    for i in os.listdir(dir_path):\n",
    "        #print os.path.getsize(dir_path)\n",
    "        list_of_files.append((i.decode(locale.getpreferredencoding()),int(os.stat(os.path.join(dir_path,i)).st_size)))\n",
    "    list_of_files=sorted(list_of_files,key=lambda x:(-x[1],x[0]),reverse=False)\n",
    "    for i in list_of_files:\n",
    "        print i[0],i[1]\n",
    "    return\n",
    "\n",
    "import os\n",
    "get_dir_content_info(os.getcwd())"
   ]
  },
  {
   "cell_type": "markdown",
   "metadata": {},
   "source": [
    "## Задание 2.2\n",
    "\n",
    "Аналогично 1.2, но только теперь англо-русский в русско-английский словарь. Дополнительно теперь будет ещё параметр encoding для кодировки файлов. Если он None, то нужно самостоятельно определить кодировку файла.\n",
    "\n",
    "##### Решение будет почти дублировать 1.2, но сначала текст нужно привести в unicode"
   ]
  },
  {
   "cell_type": "code",
   "execution_count": 24,
   "metadata": {
    "collapsed": true
   },
   "outputs": [],
   "source": [
    "# данные для проверки\n",
    "text = \"\"\"apple - яблоко, яблоневый, яблочный\n",
    "fruit - фрукт, фруктовый, фруктовое\n",
    "punishment - яблоко, возмездие\n",
    "\"\"\"\n",
    "with open('task_2_2_source.txt', 'w') as f:\n",
    "    f.write(text)\n",
    "\n",
    "\n",
    "source_path=os.path.join(os.getcwd(),'task_2_2_source.txt')\n",
    "target_path=os.path.join(os.getcwd(),'result_2_2.txt')\n",
    "\n",
    "\n",
    "\n",
    "\n",
    "#функция\n",
    "\n",
    "def eng_rus_2_rus_eng(source_path, target_path, encoding=None):\n",
    "    #определить кодировку\n",
    "    def my_decoder(val):\n",
    "        import chardet\n",
    "        if type(val) is unicode:\n",
    "            return unicode\n",
    "        else:\n",
    "            return chardet.detect(val)['encoding']\n",
    "    \n",
    "\n",
    "    #функция чтения одной строки\n",
    "    def read_one_line(line,alist=[]):\n",
    "        try:           \n",
    "            for i in map(lambda x:x.strip(),line.split(' - ')[1].split(', ')):\n",
    "                alist.append([line.split('-')[0].strip(),i])\n",
    "            return alist\n",
    "        except IndexError:\n",
    "            print 'incorrect line'\n",
    "        return\n",
    "    \n",
    "\n",
    "    #чтение файла построчно\n",
    "    with open(source_path, 'r') as f:\n",
    "        if encoding==None:\n",
    "            encoding=my_decoder(f.read())\n",
    "            #print encoding\n",
    "    with open(source_path, 'r') as f:\n",
    "        for line in f.readlines():  \n",
    "            myDict=read_one_line(unicode(line,encoding)) #отличие от 1.2 перед чтением приведен в unicode\n",
    "    \n",
    "    #создание преоразованного  словаря\n",
    "    def new_dictionary(myDict):\n",
    "        from itertools import groupby\n",
    "        myDict2=sorted(myDict,key=lambda x:x[1])\n",
    "        myDict3={\n",
    "                key:[x[0] for x in group]\n",
    "                for key,group in groupby(myDict2,key=lambda x:x[1])\n",
    "        }\n",
    "        return myDict3\n",
    "    \n",
    "    #запись в файл построчно\n",
    "    with open(target_path,'w') as r:\n",
    "        for i in sorted(new_dictionary(myDict).keys()):\n",
    "            r.write(i.encode('utf-8')+' - '+', '.join(new_dictionary(myDict)[i]).encode('utf-8')) #кодирование в utf-8\n",
    "            r.write('\\n')\n",
    "    return\n",
    "\n",
    "eng_rus_2_rus_eng(source_path,target_path)"
   ]
  },
  {
   "cell_type": "markdown",
   "metadata": {},
   "source": [
    "# Сложный уровень"
   ]
  },
  {
   "cell_type": "markdown",
   "metadata": {},
   "source": [
    "## Задание 3.1\n",
    "\n",
    "Существует исследование, говорящее о том, что в словах текста можно произвольно переставить буквы (не затрагивая первую и последнюю), и от этого читабельность текста практически не ухудшится. Напишите функцию для проверки этого факта. Ваша функция должна получать на вход какой-нибудь текст (может быть и на русском языке) и переставлять буквы в его словах случайным образом. \n",
    "\n",
    "Если seed None, то буквы переставляются не случайным образом, а сортируются по алфавиту (латинские символы считаем меньше кириллических). Если seed не None, то нужно использовать это seed при инициализации рандома. Сравните результаты.\n",
    "\n",
    "##### будем считать, что текст это последовательность кириллических и латинских символов разделённая пробелом\n",
    "##### вам потребуется модуль random и функции random.seed и random.shuffle\n",
    "##### проверьте результат работы на не юникодовских строчках и объясните результат"
   ]
  },
  {
   "cell_type": "code",
   "execution_count": 27,
   "metadata": {
    "collapsed": true
   },
   "outputs": [],
   "source": [
    "#\n",
    "#в этой реализации входной файл декодируется в юникод\n",
    "#\n",
    "#Результаты если не декодировать (убрать encoding в 34 и в 43 строках):\n",
    "        #то в выходном файле получаются такие кракозябры:\n",
    "        #Р‚СРР°СЈЃ» Рё РёѕРСРСЃЃ‰СС‚»ёРСЏ РРµІµСРС‡Ђ  РСў‹ СїРССРЃё€Њ  Р‡СРРСї±РµРЃРµµЅ\n",
    "        #причём этот файл нельзя расшифровать наложением правильной кодировки\n",
    "        #но если не применять функцию shuffle, то все будет нормально и файл сохранится в utf-8\n",
    "        #\n",
    "        \n",
    "\n",
    "#Предполагаемое объяснение:\n",
    "    #функция re.shuffle переставляет не буквы, а сочетания байтов, но т.к. символы кодируются разным числом байтов\n",
    "    #то в процессе перестановки и последующего наложения кодировки utf-8 буквы превращаются в другие\n",
    "\n",
    "\n",
    "\n",
    "#создание проверочного файла\n",
    "text=\"\"\"Устал и истощился вечер,\n",
    "Ты спишь, беспечен, вычислив количество овечек\n",
    "Город как пирамидка из колечек,\n",
    "Каждый человечек в нём наполовинку искалечен\"\"\"\n",
    "\n",
    "with open('task_3_1_source.txt', 'w') as f:\n",
    "    f.write(text)\n",
    "\n",
    "#функция\n",
    "def text_shuffle(text, seed=None):\n",
    "    import random\n",
    "    import chardet\n",
    "    import re\n",
    "    random.seed(448)\n",
    "    with open(text,'r') as f:\n",
    "        encoding=chardet.detect(f.read())['encoding']\n",
    "    with open(text,'r') as f:\n",
    "        words=map(lambda x: unicode(x.decode(encoding)),re.split(' |\\n|,',f.read()))  \n",
    "    words2=[]\n",
    "    for i in words:\n",
    "        if len(i)>3:\n",
    "            g=list(i[1:len(i)-1])           \n",
    "            random.shuffle(g)\n",
    "            i=i[0]+''.join(g).strip()+i[len(i)-1]\n",
    "        words2.append(i)\n",
    "    with open(text,'w') as f:\n",
    "        f.write(' '.join(words2).encode('utf-8'))\n",
    "    return\n",
    "\n",
    "text_shuffle('task_3_1_source.txt')"
   ]
  },
  {
   "cell_type": "markdown",
   "metadata": {},
   "source": [
    "## Задание 3.2\n",
    "\n",
    "Напишите функцию, которая читает два файла построчно (то есть не загружая всё содержимое в память), и записывает в выходной файл результат лексиграфического сравнение срочки из первого файла и из второго (First, Second и Equal по аналогии c предыдущим ДЗ)."
   ]
  },
  {
   "cell_type": "code",
   "execution_count": 26,
   "metadata": {
    "collapsed": true
   },
   "outputs": [],
   "source": [
    "#создание 1-го проверочного файла\n",
    "text=\"\"\"Устал и истощился вечер,\n",
    "Ты спишь, беспечен, вычислив количество овечек\n",
    "Город как пирамидка из колечек,\n",
    "Каждый человечек в нём наполовинку искалечен\"\"\"\n",
    "\n",
    "with open('task_3_2_source1.txt', 'w') as f:\n",
    "    f.write(text)\n",
    "    \n",
    "#создание 2-го проверочного файла\n",
    "text=\"\"\"Устал и истощился вечер,\n",
    "Ты спишь, беспечен, вычислив количество овечек\n",
    "Город как пирамидка из колечек, бря\n",
    "Каждый человечек в нём наполовинку искалечен\"\"\"\n",
    "\n",
    "with open('task_3_2_source2.txt', 'w') as f:\n",
    "    f.write(text)\n",
    "    \n",
    "\n",
    "\n",
    "def process(fst_source_path, snd_source_path, target_path=''):\n",
    "    with open(target_path,'w') as t:\n",
    "        with open(fst_source_path, 'r') as f1,open(snd_source_path, 'r') as f2:\n",
    "                for i in zip(f1.readlines(),f2.readlines()):\n",
    "                    if i[0]==i[1]:\n",
    "                         t.write('equal'+'\\n')\n",
    "                    else:\n",
    "                        if i[0]>i[1]:\n",
    "                            t.write('first'+'\\n')\n",
    "                        elif i[0]<=i[1]:\n",
    "                            t.write('second'+'\\n')\n",
    "\n",
    "        return\n",
    "process('task_3_2_source1.txt','task_3_2_source2.txt','task_3_2_result.txt')"
   ]
  },
  {
   "cell_type": "code",
   "execution_count": null,
   "metadata": {
    "collapsed": true
   },
   "outputs": [],
   "source": []
  }
 ],
 "metadata": {
  "anaconda-cloud": {},
  "celltoolbar": "Raw Cell Format",
  "kernelspec": {
   "display_name": "Python 2",
   "language": "python",
   "name": "python2"
  },
  "language_info": {
   "codemirror_mode": {
    "name": "ipython",
    "version": 2
   },
   "file_extension": ".py",
   "mimetype": "text/x-python",
   "name": "python",
   "nbconvert_exporter": "python",
   "pygments_lexer": "ipython2",
   "version": "2.7.13"
  }
 },
 "nbformat": 4,
 "nbformat_minor": 2
}
